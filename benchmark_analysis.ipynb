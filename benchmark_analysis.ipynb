{
 "cells": [
  {
   "cell_type": "code",
   "execution_count": null,
   "metadata": {},
   "outputs": [],
   "source": [
    "# benchmark_analysis.ipynb\n",
    "\n",
    "import pandas as pd\n",
    "import matplotlib.pyplot as plt\n",
    "import seaborn as sns\n",
    "\n",
    "# Load the benchmark results\n",
    "df = pd.read_csv('benchmark_results.csv')\n",
    "\n",
    "# For each model and setting, get the maximum throughput\n",
    "df_max = df.groupby(['model_name', 'setting'])['throughput'].max().reset_index()\n",
    "\n",
    "# Pivot the data to have settings as columns\n",
    "df_pivot = df_max.pivot(index='model_name', columns='setting', values='throughput').reset_index()\n",
    "\n",
    "# Melt the DataFrame for plotting\n",
    "df_melted = pd.melt(\n",
    "    df_pivot,\n",
    "    id_vars=['model_name'],\n",
    "    value_vars=['default', 'jit_script', 'compile_default', 'compile_cudagraphs'],\n",
    "    var_name='setting',\n",
    "    value_name='throughput'\n",
    ")\n",
    "\n",
    "# Sort models by name for consistent plotting\n",
    "df_melted['model_name'] = df_melted['model_name'].astype('category')\n",
    "df_melted['model_name'].cat.set_categories(\n",
    "    sorted(df_melted['model_name'].unique()), inplace=True\n",
    ")\n",
    "\n",
    "# Plot the barplot\n",
    "plt.figure(figsize=(14, 8))\n",
    "sns.barplot(data=df_melted, x='model_name', y='throughput', hue='setting')\n",
    "\n",
    "plt.xlabel('Model Name')\n",
    "plt.ylabel('Throughput (input vectors per second)')\n",
    "plt.title('Maximum Throughput per Model and Setting')\n",
    "plt.xticks(rotation=45, ha='right')\n",
    "plt.legend(title='Setting', bbox_to_anchor=(1.05, 1), loc='upper left')\n",
    "plt.tight_layout()\n",
    "plt.show()\n"
   ]
  }
 ],
 "metadata": {
  "kernelspec": {
   "display_name": "dl",
   "language": "python",
   "name": "python3"
  },
  "language_info": {
   "name": "python",
   "version": "3.9.18"
  }
 },
 "nbformat": 4,
 "nbformat_minor": 2
}
